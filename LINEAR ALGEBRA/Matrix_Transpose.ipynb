{
 "cells": [
  {
   "cell_type": "code",
   "execution_count": 1,
   "id": "d07b9824",
   "metadata": {},
   "outputs": [],
   "source": [
    "import numpy as np"
   ]
  },
  {
   "cell_type": "code",
   "execution_count": 2,
   "id": "bcb64bf3",
   "metadata": {},
   "outputs": [],
   "source": [
    "arr=np.array([[34,56,378],[65,98,300],[28,66,11]])"
   ]
  },
  {
   "cell_type": "code",
   "execution_count": 3,
   "id": "9509a4bc",
   "metadata": {},
   "outputs": [
    {
     "data": {
      "text/plain": [
       "array([[ 34,  56, 378],\n",
       "       [ 65,  98, 300],\n",
       "       [ 28,  66,  11]])"
      ]
     },
     "execution_count": 3,
     "metadata": {},
     "output_type": "execute_result"
    }
   ],
   "source": [
    "arr"
   ]
  },
  {
   "cell_type": "code",
   "execution_count": 4,
   "id": "d2ce5436",
   "metadata": {},
   "outputs": [],
   "source": [
    "transpose_arr=np.transpose(arr)"
   ]
  },
  {
   "cell_type": "code",
   "execution_count": 5,
   "id": "f8c8241c",
   "metadata": {},
   "outputs": [
    {
     "data": {
      "text/plain": [
       "array([[ 34,  65,  28],\n",
       "       [ 56,  98,  66],\n",
       "       [378, 300,  11]])"
      ]
     },
     "execution_count": 5,
     "metadata": {},
     "output_type": "execute_result"
    }
   ],
   "source": [
    "transpose_arr"
   ]
  },
  {
   "cell_type": "code",
   "execution_count": 6,
   "id": "e121cc2a",
   "metadata": {},
   "outputs": [],
   "source": [
    "trans_arr=arr.T"
   ]
  },
  {
   "cell_type": "code",
   "execution_count": 7,
   "id": "91d38aa9",
   "metadata": {},
   "outputs": [
    {
     "data": {
      "text/plain": [
       "array([[ 34,  65,  28],\n",
       "       [ 56,  98,  66],\n",
       "       [378, 300,  11]])"
      ]
     },
     "execution_count": 7,
     "metadata": {},
     "output_type": "execute_result"
    }
   ],
   "source": [
    "trans_arr"
   ]
  }
 ],
 "metadata": {
  "kernelspec": {
   "display_name": "Python 3 (ipykernel)",
   "language": "python",
   "name": "python3"
  },
  "language_info": {
   "codemirror_mode": {
    "name": "ipython",
    "version": 3
   },
   "file_extension": ".py",
   "mimetype": "text/x-python",
   "name": "python",
   "nbconvert_exporter": "python",
   "pygments_lexer": "ipython3",
   "version": "3.11.3"
  }
 },
 "nbformat": 4,
 "nbformat_minor": 5
}
